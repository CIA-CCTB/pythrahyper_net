{
 "cells": [
  {
   "cell_type": "markdown",
   "metadata": {},
   "source": [
    "# Analysis for Multi Parameter Simulation\n",
    "***\n",
    "\n",
    "This notebook shows how to analyze the results of simulation runs with multiple parameters.\n"
   ]
  },
  {
   "cell_type": "markdown",
   "metadata": {},
   "source": [
    "First, we import relevant libraries:"
   ]
  },
  {
   "cell_type": "code",
   "execution_count": null,
   "metadata": {},
   "outputs": [],
   "source": [
    "import numpy as np\n",
    "import os\n",
    "import networkx as nx\n",
    "import pickle"
   ]
  },
  {
   "cell_type": "markdown",
   "metadata": {},
   "source": [
    "Set the parameter to be analyzed:"
   ]
  },
  {
   "cell_type": "code",
   "execution_count": null,
   "metadata": {},
   "outputs": [],
   "source": [
    "var_key = \"memory\";"
   ]
  },
  {
   "cell_type": "markdown",
   "metadata": {},
   "source": [
    "Set the directories, and obtain the number of possible values and runs:"
   ]
  },
  {
   "cell_type": "code",
   "execution_count": null,
   "metadata": {},
   "outputs": [],
   "source": [
    "home = os.getcwd();\n",
    "simdir = \"Examples/Osteocytes\";\n",
    "subdir = os.path.join(home,simdir,var_key);\n",
    "rundir = [os.path.join(subdir,v) for v in os.listdir(subdir) if os.path.isdir(os.path.join(subdir,v)) and not v.startswith('.')];\n",
    "\n",
    "num_val = len(rundir);\n",
    "\n",
    "for r in rundir:\n",
    "    w = [os.path.join(r,run) for run in os.listdir(r) if os.path.isdir(os.path.join(r,run)) and not run.startswith('.')];\n",
    "    num_runs = len(w);"
   ]
  },
  {
   "cell_type": "markdown",
   "metadata": {},
   "source": [
    "Generate sorted numpy array with parameters:"
   ]
  },
  {
   "cell_type": "code",
   "execution_count": null,
   "metadata": {},
   "outputs": [],
   "source": [
    "# replace int() by float() depending on type of parameter\n",
    "var_range = [int(v) for v in os.listdir(subdir) if os.path.isdir(os.path.join(subdir,v)) and not v.startswith('.')];\n",
    "\n",
    "var_range.sort()\n",
    "\n",
    "print(\"Values for \"+var_key+\": \"+str(var_range))"
   ]
  },
  {
   "cell_type": "markdown",
   "metadata": {},
   "source": [
    "## Functions to return different properties for given directory and run:\n"
   ]
  },
  {
   "cell_type": "code",
   "execution_count": null,
   "metadata": {},
   "outputs": [],
   "source": [
    "prop_list = (\"Number of Nodes\",\n",
    "              \"Average Degree\",\n",
    "              \"Average Clustering Coefficient\",\n",
    "              \"Average Shortest Path Length\",\n",
    "              \"Edge Density\",\n",
    "              \"Betweenness Centrality\",\n",
    "              \"Information Centrality\",\n",
    "              \"Harmonic Centrality\",\n",
    "              \"Connected Components\"\n",
    "             )\n",
    "\n",
    "prop_str = (\"N\",\n",
    "              \"<k>\",\n",
    "              \"<cc>\",\n",
    "              \"ASP\",\n",
    "              \"Edge Density\",\n",
    "              \"<C$_B$>\",\n",
    "              \"<C$_I$>\",\n",
    "              \"<C$_I$>\",\n",
    "              \"N$_c$\"\n",
    "             )\n"
   ]
  },
  {
   "cell_type": "code",
   "execution_count": null,
   "metadata": {},
   "outputs": [],
   "source": [
    "def get_props(G):\n",
    "\n",
    "    prop = np.zeros(len(prop_list))\n",
    "\n",
    "    prop[8] = nx.number_connected_components(G);\n",
    "    largest_cc = max(nx.connected_components(G), key=len)\n",
    "    Gc = G.subgraph(largest_cc).copy()\n",
    "\n",
    "    prop[0]=Gc.number_of_nodes()   \n",
    "    G_deg = nx.degree_histogram(Gc)\n",
    "    n=0;\n",
    "    G_deg = G_deg[n:10]\n",
    "    G_deg_sum = [a * b for a, b in zip(G_deg, range(n, len(G_deg)+n))]\n",
    "    prop[1]=sum(G_deg_sum)/sum(G_deg)\n",
    "    prop[2]=nx.average_clustering(Gc)    \n",
    "    prop[3]=nx.average_shortest_path_length(Gc,weight=\"weight\");\n",
    "    prop[4]=nx.density(Gc)   \n",
    "    prop[5]=np.mean(np.array(list(nx.betweenness_centrality(Gc,k=100).values())))\n",
    "    prop[6]=np.mean(np.array(list(nx.information_centrality(Gc).values())))\n",
    "    prop[7]=np.mean(np.array(list(nx.harmonic_centrality(Gc).values())))\n",
    "    return prop\n",
    "    "
   ]
  },
  {
   "cell_type": "markdown",
   "metadata": {},
   "source": [
    "## Compute graph properties parallel"
   ]
  },
  {
   "cell_type": "code",
   "execution_count": null,
   "metadata": {},
   "outputs": [],
   "source": [
    "from multiprocessing import Pool"
   ]
  },
  {
   "cell_type": "code",
   "execution_count": null,
   "metadata": {},
   "outputs": [],
   "source": [
    "num_prop = len(prop_list)\n",
    "\n",
    "\n",
    "p = np.zeros((num_val,num_prop,num_runs))\n",
    "\n",
    "rdir = [os.path.join(subdir,str(r)) for j,r in enumerate(var_range)]\n",
    "\n",
    "for j in range(num_val):\n",
    "\n",
    "    def get_prop(i):\n",
    "        with open(os.path.join(rdir[j],str(i),'G.pkl'), 'rb') as f:\n",
    "            G = nx.read_gpickle(f)\n",
    "        return get_props(G)\n",
    "\n",
    "    pool = Pool(processes=num_runs)\n",
    "    result = pool.map(get_prop,range(num_runs));\n",
    "    pool.close()\n",
    "    pool.join()\n",
    "    \n",
    "    for i,res in enumerate(result):\n",
    "        p[j,:,i] = res;\n",
    "    "
   ]
  },
  {
   "cell_type": "code",
   "execution_count": null,
   "metadata": {},
   "outputs": [],
   "source": [
    "with open(os.path.join(subdir,'p.pkl'), 'wb') as f:\n",
    "    pickle.dump(p, f)\n",
    "   "
   ]
  },
  {
   "cell_type": "code",
   "execution_count": null,
   "metadata": {},
   "outputs": [],
   "source": [
    "with open(os.path.join(subdir,'p.pkl'), 'rb') as f:\n",
    "    p = pickle.load(f)"
   ]
  },
  {
   "cell_type": "code",
   "execution_count": null,
   "metadata": {},
   "outputs": [],
   "source": [
    "from scipy.io import loadmat\n",
    "\n",
    "A = loadmat(\"Examples/Osteocytes/A.mat\")\n",
    "GA = nx.from_scipy_sparse_matrix(A['A'])\n",
    "\n",
    "A_prop = get_props(GA)"
   ]
  },
  {
   "cell_type": "code",
   "execution_count": null,
   "metadata": {},
   "outputs": [],
   "source": [
    "with open(\"Examples/Osteocytes/A_prop.pkl\", 'wb') as f:\n",
    "    pickle.dump(A_prop, f)\n",
    "    "
   ]
  },
  {
   "cell_type": "code",
   "execution_count": null,
   "metadata": {},
   "outputs": [],
   "source": [
    "with open(\"Examples/Osteocytes/A_prop.pkl\", 'rb') as f:\n",
    "    A_prop = pickle.load(f)\n"
   ]
  },
  {
   "cell_type": "code",
   "execution_count": null,
   "metadata": {},
   "outputs": [],
   "source": [
    "import matplotlib.pyplot as plt"
   ]
  },
  {
   "cell_type": "code",
   "execution_count": null,
   "metadata": {},
   "outputs": [],
   "source": [
    "def plot_prop(var_range,param,var_name,prop_name,prop_str,A_param):\n",
    "\n",
    "    fig = plt.figure(figsize=(4,3.5))\n",
    "    ax = plt.axes()\n",
    "    ax.scatter(np.repeat(var_range,10), param,color='k', alpha=0.15, s=80)\n",
    "    ax.scatter(var_range,np.mean(param,axis=1),color='r',s=150)\n",
    "\n",
    "    ax.plot(var_range,np.repeat(A_param,len(var_range)));\n",
    "\n",
    "    ax.set_xlabel(var_name, fontsize=15)\n",
    "    ax.set_ylabel(prop_str, fontsize=15)\n",
    "    ax.set_title(prop_name, fontsize=15)\n",
    "    ax.tick_params(axis='both', which='major', labelsize=10)\n",
    "    fig.tight_layout()\n",
    "    plt.show()\n",
    "    \n"
   ]
  },
  {
   "cell_type": "code",
   "execution_count": null,
   "metadata": {},
   "outputs": [],
   "source": [
    "# Plot average degree\n",
    "i = 6;\n",
    "\n",
    "plot_prop(var_range[:],p[:,i,:],var_key,prop_list[i],prop_str[i],A_prop[i])\n"
   ]
  },
  {
   "cell_type": "markdown",
   "metadata": {},
   "source": [
    "***\n",
    "## Generate Figures"
   ]
  },
  {
   "cell_type": "markdown",
   "metadata": {},
   "source": [
    "Regenerate cell coordinates for Osteocyte Network scenario:"
   ]
  },
  {
   "cell_type": "code",
   "execution_count": null,
   "metadata": {},
   "outputs": [],
   "source": [
    "cells = np.array([[128,64,128],[128,128,128],[128,192,128],\n",
    "                  [64,96,128], [64,160,128],\n",
    "                  [192,96,128],[192,160,128],\n",
    "                  [128,96,96], [128,160,96],\n",
    "                  [64,64,96],  [64,128,96],  [64,192,96],\n",
    "                  [192,64,96], [192,128,96], [192,192,96],\n",
    "                  [128,96,160],[128,160,160],\n",
    "                  [64,64,160], [64,128,160], [64,192,160],\n",
    "                  [192,64,160],[192,128,160],[192,192,160]]);\n",
    "\n",
    "N_cells = cells.shape[0]\n",
    "\n",
    "# offset of cell surface from cell center\n",
    "w = 7\n",
    "l = 12\n",
    "h = 4"
   ]
  },
  {
   "cell_type": "markdown",
   "metadata": {},
   "source": [
    "Function for generating mayavi figure:"
   ]
  },
  {
   "cell_type": "code",
   "execution_count": null,
   "metadata": {},
   "outputs": [],
   "source": [
    "from mayavi import mlab\n",
    "mlab.init_notebook(backend=\"ipy\")"
   ]
  },
  {
   "cell_type": "markdown",
   "metadata": {},
   "source": [
    "Function to save mayavi figure as TIFF:"
   ]
  },
  {
   "cell_type": "code",
   "execution_count": null,
   "metadata": {},
   "outputs": [],
   "source": [
    "rdir = [os.path.join(subdir,str(r)) for j,r in enumerate(var_range)]"
   ]
  },
  {
   "cell_type": "code",
   "execution_count": null,
   "metadata": {},
   "outputs": [],
   "source": [
    "d=os.path.join(rdir[0],str(0))\n",
    "\n",
    "with open(os.path.join(d,'cod.pkl'), 'rb') as f:\n",
    "        cod = pickle.load(f)\n",
    "    \n",
    "fig = mlab.figure(bgcolor=(1,1,1),size=(600,600))\n",
    "    \n",
    "for i in cells:\n",
    "    u = np.linspace(0, 2 * np.pi, 50)\n",
    "    v = np.linspace(0, np.pi, 50)\n",
    "    x = w * np.outer(np.cos(u), np.sin(v)) + i[0]\n",
    "    y = l * np.outer(np.sin(u), np.sin(v)) + i[1]\n",
    "    z = h * np.outer(np.ones(np.size(u)), np.cos(v)) + i[2]\n",
    "    cu = mlab.mesh(x, y, z, color=(0.5,0.5,1.0))\n",
    "        \n",
    "for key in cod: \n",
    "    if cod[key].pos_list.shape[0] > 3:\n",
    "        cod[key].spline_fitq(s=2)  \n",
    "        x = cod[key].new_pointsq[0];\n",
    "        y = cod[key].new_pointsq[1];\n",
    "        z = cod[key].new_pointsq[2];\n",
    "    else:\n",
    "        x = cod[key].pos_list[:,0];\n",
    "        y = cod[key].pos_list[:,1];\n",
    "        z = cod[key].pos_list[:,2];\n",
    "\n",
    "    if cod[key].sleep_merge_event == [('growing')]:\n",
    "        color = (0.1,0.6,0.1);\n",
    "    else:\n",
    "        color = (0.8,0.1,0.1); \n",
    "            \n",
    "    mlab.plot3d(x,y,z, color = color, line_width=1.0, tube_radius=0.3)\n",
    "    \n",
    "cu"
   ]
  },
  {
   "cell_type": "markdown",
   "metadata": {},
   "source": [
    "Save for all runs (not necessary probably)"
   ]
  },
  {
   "cell_type": "code",
   "execution_count": null,
   "metadata": {},
   "outputs": [],
   "source": [
    "with open(os.path.join(d,'G.pkl'), 'rb') as f:\n",
    "        G = pickle.load(f)\n",
    "\n",
    "fig = plt.figure(figsize=(5,5))\n",
    "ax = plt.subplot(111)\n",
    "\n",
    "nx.draw_spring(G,with_labels = False,node_size = 10, node_color =  'r', node_shape = 'o')\n"
   ]
  },
  {
   "cell_type": "code",
   "execution_count": null,
   "metadata": {},
   "outputs": [],
   "source": []
  }
 ],
 "metadata": {
  "kernelspec": {
   "display_name": "Python 3",
   "language": "python",
   "name": "python3"
  },
  "language_info": {
   "codemirror_mode": {
    "name": "ipython",
    "version": 3
   },
   "file_extension": ".py",
   "mimetype": "text/x-python",
   "name": "python",
   "nbconvert_exporter": "python",
   "pygments_lexer": "ipython3",
   "version": "3.7.9"
  }
 },
 "nbformat": 4,
 "nbformat_minor": 4
}
