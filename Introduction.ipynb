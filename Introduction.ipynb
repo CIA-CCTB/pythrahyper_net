{
 "cells": [
  {
   "cell_type": "markdown",
   "metadata": {},
   "source": [
    "# Introduction\n",
    "\n",
    "This notebook is a quick introduction to \"pythrahyper_net\", a computational network growth simulation. After loading all necessary libraries, the starting conditions and computation grid are initialized. Finally, a small simulation of a network growing on the surface of a sphere is performed.\n",
    "\n",
    "First, we import numpy and some other python modules:"
   ]
  },
  {
   "cell_type": "code",
   "execution_count": null,
   "metadata": {},
   "outputs": [],
   "source": [
    "import numpy as np\n",
    "from time import time as timet\n",
    "import concurrent.futures\n",
    "import os\n",
    "import itertools\n",
    "import multiprocessing\n",
    "from pathlib import Path"
   ]
  },
  {
   "cell_type": "markdown",
   "metadata": {},
   "source": [
    "Now we need to import the main simulation classes as well as some auxiliary modules for configuration and plotting:"
   ]
  },
  {
   "cell_type": "code",
   "execution_count": null,
   "metadata": {},
   "outputs": [],
   "source": [
    "# Import the framework's main module\n",
    "import Initialize_Network_Growing as ing\n",
    "\n",
    "# This python file loads the parameter setting for the growth simulation\n",
    "import Start_Conditions.Parameter_Importer as Parameter_Importer\n",
    "\n",
    "# This python file initializes the starting nodes and growth cones: \n",
    "import Start_Conditions.Node_Maker as Node_Maker\n",
    "\n",
    "# This loads the images containing the structure of teh environment:\n",
    "import Start_Conditions.StructField_Maker as StructField_Maker\n",
    "\n",
    "# Growth step functionality\n",
    "import Math_and_Simulation.Step_Maker as Step_Maker\n",
    "\n",
    "# Functions for plotting and making movies\n",
    "import Plots_and_Movies.Plot_Maker as Plot_Maker\n",
    "import Plots_and_Movies.Movie_Maker as Movie_Maker\n",
    "\n",
    "# Functions for generating the networkx graph\n",
    "import Network_Graph_Construction.Network_X as Network_X\n",
    "import Network_Graph_Construction.Update_Network as Update_Network"
   ]
  },
  {
   "cell_type": "markdown",
   "metadata": {},
   "source": [
    "Set the location of the configuration files (.csv text files), extract settings and initialize the dictionaries of network objects as well as the computation grid:"
   ]
  },
  {
   "cell_type": "code",
   "execution_count": null,
   "metadata": {
    "scrolled": true
   },
   "outputs": [],
   "source": [
    "# Path to this notebook\n",
    "home = os.getcwd() \n",
    "\n",
    "# Locations of csv configuration files\n",
    "path_struct_img = home + '/Parameter_Files/structured_image_dir.csv'\n",
    "path_multilayer = home + '/Parameter_Files/multilayer_dir_parameters.csv'\n",
    "path_startpar = home + '/Parameter_Files/starting_positions.csv'\n",
    "path_growth = home + '/Parameter_Files/growth_parameters.csv'\n",
    "path_internal = home + '/Parameter_Files/internal_parameters.csv'\n",
    "\n",
    "# Generate feature maps from image data of growth environment\n",
    "features = ing.StructField_Maker.structured_field(path_struct_img, home, sigma_divd=2,\n",
    "                                                  sigma_divt1=2, sigma_divt2=2)\n",
    "\n",
    "# Initialise the computation grid\n",
    "field_ref = ing.StructField_Maker.interpol_external_fields(path_multilayer)\n",
    "\n",
    "# Initialize the object dictionaries\n",
    "obj_par_env = ing.init_objects_parameter_enviroment(path_startpar,path_internal,path_growth,path_multilayer)"
   ]
  },
  {
   "cell_type": "markdown",
   "metadata": {},
   "source": [
    "The growth process is implemented as parallel simulation, therefore the data need to be transferred into shared memory objects, using the [**manager concept**](https://docs.python.org/3/library/multiprocessing.html#managers) from the python [**multiprocessing**](https://docs.python.org/3/library/multiprocessing.html) library:"
   ]
  },
  {
   "cell_type": "code",
   "execution_count": null,
   "metadata": {},
   "outputs": [],
   "source": [
    "# Extract individual dictionaries\n",
    "cod, nod, edd, flavour, ed_names, no_names, co_names, field, steps, instances, dim, radius  = obj_par_env\n",
    "\n",
    "# Create shared memory proxy objects for all paramter and Class objects\n",
    "mgr, eddp, nodp, flavourp, ed_namesp, \\\n",
    "no_namesp, co_namesp, fieldp, forcep = ing.init_manager_init(edd, nod, flavour,\n",
    "                                                            ed_names, no_names,\n",
    "                                                            co_names, field,\n",
    "                                                            field_ref)\n",
    "\n",
    "# Transfer proxy objects to the correct namespace (needed when running in notebook)\n",
    "ing.mgr = mgr\n",
    "ing.eddp = eddp\n",
    "ing.nodp = nodp\n",
    "ing.flavourp = flavourp\n",
    "ing.ed_namesp = ed_namesp\n",
    "ing.no_namesp = no_namesp\n",
    "ing.co_namesp = co_namesp\n",
    "ing.fieldp = fieldp\n",
    "ing.forcep = forcep"
   ]
  },
  {
   "cell_type": "markdown",
   "metadata": {},
   "source": [
    "Finally, set the number of instances (simulation steps) and substeps per instance, and run the parallel simulation: "
   ]
  },
  {
   "cell_type": "code",
   "execution_count": null,
   "metadata": {},
   "outputs": [],
   "source": [
    "#Starting the growth process simulation\n",
    "\n",
    "%matplotlib widget\n",
    "\n",
    "instances = 5\n",
    "steps = 10\n",
    "\n",
    "growing_results = ing.init_par_growing(cod, nod, edd, steps, \n",
    "                                  instances, dim, radius,\n",
    "                                  eddp, nodp, flavourp, fieldp,\n",
    "                                  ed_namesp, no_namesp, co_namesp,\n",
    "                                  forcep,\n",
    "                                  timer = True,\n",
    "                                  plot = True,\n",
    "                                  Voronoi = False,\n",
    "                                  network_x = True)\n",
    "\n",
    "cod, nod, edd, flavour, ed_names, no_names, co_names, vor, G_vor, subG_vor, G, subG = growing_results"
   ]
  },
  {
   "cell_type": "code",
   "execution_count": null,
   "metadata": {},
   "outputs": [],
   "source": []
  }
 ],
 "metadata": {
  "kernelspec": {
   "display_name": "Python 3",
   "language": "python",
   "name": "python3"
  },
  "language_info": {
   "codemirror_mode": {
    "name": "ipython",
    "version": 3
   },
   "file_extension": ".py",
   "mimetype": "text/x-python",
   "name": "python",
   "nbconvert_exporter": "python",
   "pygments_lexer": "ipython3",
   "version": "3.8.3"
  }
 },
 "nbformat": 4,
 "nbformat_minor": 4
}
