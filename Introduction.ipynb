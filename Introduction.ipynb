{
 "cells": [
  {
   "cell_type": "markdown",
   "metadata": {},
   "source": [
    "# Introduction\n",
    "\n",
    "This notebook is a quick introduction to \"pythrahyper_net\", a computational network growth simulation. After loading all necessary libraries, the starting conditions and computation grid are initialized. Finally, a small simulation of a network growing on the surface of a sphere is performed.\n",
    "\n",
    "First, we import numpy and some other python modules:"
   ]
  },
  {
   "cell_type": "code",
   "execution_count": 6,
   "metadata": {},
   "outputs": [],
   "source": [
    "import numpy as np\n",
    "from time import time as timet\n",
    "import concurrent.futures\n",
    "import os\n",
    "import itertools\n",
    "import multiprocessing\n",
    "from pathlib import Path"
   ]
  },
  {
   "cell_type": "markdown",
   "metadata": {},
   "source": [
    "Now we need to import the main simulation classes as well as some auxiliary modules for configuration and plotting:"
   ]
  },
  {
   "cell_type": "code",
   "execution_count": 7,
   "metadata": {},
   "outputs": [],
   "source": [
    "# Import the framework's main module\n",
    "import Initialize_Network_Growing as ing\n",
    "\n",
    "# This python file loads the parameter setting for the growth simulation\n",
    "import Start_Conditions.Parameter_Importer as Parameter_Importer\n",
    "\n",
    "# This python file initializes the starting nodes and growth cones: \n",
    "import Start_Conditions.Node_Maker as Node_Maker\n",
    "\n",
    "# This loads the images containing the structure of teh environment:\n",
    "import Start_Conditions.StructField_Maker as StructField_Maker\n",
    "\n",
    "# Growth step functionality\n",
    "import Math_and_Simulation.Step_Maker as Step_Maker\n",
    "\n",
    "# Functions for plotting and making movies\n",
    "import Plots_and_Movies.Plot_Maker as Plot_Maker\n",
    "import Plots_and_Movies.Movie_Maker as Movie_Maker\n",
    "\n",
    "# Functions for generating the networkx graph\n",
    "import Network_Graph_Construction.Network_X as Network_X\n",
    "import Network_Graph_Construction.Update_Network as Update_Network"
   ]
  },
  {
   "cell_type": "markdown",
   "metadata": {},
   "source": [
    "Set the location of the configuration files (.csv text files), extract settings and initialize the dictionaries of network objects as well as the computation grid:"
   ]
  },
  {
   "cell_type": "code",
   "execution_count": 9,
   "metadata": {
    "scrolled": true
   },
   "outputs": [
    {
     "name": "stdout",
     "output_type": "stream",
     "text": [
      "The number of starting cones is : 30\n"
     ]
    }
   ],
   "source": [
    "# Path to this notebook\n",
    "home = os.getcwd() \n",
    "\n",
    "# Locations of csv configuration files\n",
    "path_struct_img = home + '/Parameter_Files/structured_image_dir.csv'\n",
    "path_multilayer = home + '/Parameter_Files/multilayer_dir_parameters.csv'\n",
    "path_startpar = home + '/Parameter_Files/starting_positions.csv'\n",
    "path_growth = home + '/Parameter_Files/growth_parameters.csv'\n",
    "path_internal = home + '/Parameter_Files/internal_parameters.csv'\n",
    "\n",
    "# Generate feature maps from image data of growth environment\n",
    "features = ing.StructField_Maker.structured_field(path_struct_img, home, sigma_divd=2, sigma_divt1=2, sigma_divt2=2)\n",
    "\n",
    "# Initialise the computation grid\n",
    "field_ref = ing.StructField_Maker.interpol_external_fields(path_multilayer)\n",
    "\n",
    "# Initialize the object dictionaries\n",
    "obj_par_env = ing.init_objects_parameter_enviroment(path_startpar,path_internal,path_growth,path_multilayer)"
   ]
  },
  {
   "cell_type": "markdown",
   "metadata": {},
   "source": [
    "The growth process is implemented as parallel simulation, therefore the data need to be transferred into shared memory objects, using the [**manager concept**](https://docs.python.org/3/library/multiprocessing.html#managers) from the python [**multiprocessing**](https://docs.python.org/3/library/multiprocessing.html) library:"
   ]
  },
  {
   "cell_type": "code",
   "execution_count": 10,
   "metadata": {},
   "outputs": [],
   "source": [
    "# Extract individual dictionaries\n",
    "cod, nod, edd, flavour, ed_names, no_names, co_names, field, steps, instances, dim, radius  = obj_par_env\n",
    "\n",
    "# Create shared memory proxy objects for all paramter and Class objects\n",
    "mgr, eddp, nodp, flavourp, ed_namesp, \\\n",
    "no_namesp, co_namesp, fieldp, forcep = ing.init_manager_init(edd, nod, flavour,\n",
    "                                                            ed_names, no_names,\n",
    "                                                            co_names, field,\n",
    "                                                            field_ref)\n",
    "\n",
    "# Transfer proxy objects to the correct namespace (needed when running in notebook)\n",
    "ing.mgr = mgr\n",
    "ing.eddp = eddp\n",
    "ing.nodp = nodp\n",
    "ing.flavourp = flavourp\n",
    "ing.ed_namesp = ed_namesp\n",
    "ing.no_namesp = no_namesp\n",
    "ing.co_namesp = co_namesp\n",
    "ing.fieldp = fieldp\n",
    "ing.forcep = forcep"
   ]
  },
  {
   "cell_type": "markdown",
   "metadata": {},
   "source": [
    "Finally, set the number of instances (simulation steps) and substeps per instance, and run the parallel simulation: "
   ]
  },
  {
   "cell_type": "code",
   "execution_count": 11,
   "metadata": {},
   "outputs": [
    {
     "name": "stdout",
     "output_type": "stream",
     "text": [
      "Instance number  0  with  10  steps  and  30 cones,  30 edges and  60 nodes.\n",
      "Instance number  1  with  10  steps  and  43 cones,  54 edges and  84 nodes.\n",
      "Instance number  2  with  10  steps  and  54 cones,  68 edges and  98 nodes.\n",
      "Instance number  3  with  10  steps  and  68 cones,  90 edges and  120 nodes.\n",
      "Instance number  4  with  10  steps  and  87 cones,  120 edges and  150 nodes.\n",
      "Instance number  5  with  10  steps  and  110 cones,  164 edges and  194 nodes.\n",
      "Instance number  6  with  10  steps  and  137 cones,  212 edges and  242 nodes.\n",
      "Instance number  7  with  10  steps  and  158 cones,  246 edges and  276 nodes.\n",
      "Instance number  8  with  10  steps  and  181 cones,  284 edges and  314 nodes.\n",
      "Instance number  9  with  10  steps  and  200 cones,  312 edges and  342 nodes.\n",
      "Instance number  10  with  10  steps  and  233 cones,  370 edges and  400 nodes.\n",
      "Instance number  11  with  10  steps  and  260 cones,  422 edges and  452 nodes.\n",
      "Instance number  12  with  10  steps  and  279 cones,  456 edges and  486 nodes.\n",
      "Instance number  13  with  10  steps  and  319 cones,  522 edges and  552 nodes.\n",
      "Instance number  14  with  10  steps  and  355 cones,  584 edges and  614 nodes.\n",
      "Instance number  15  with  10  steps  and  384 cones,  638 edges and  668 nodes.\n",
      "Instance number  16  with  10  steps  and  429 cones,  716 edges and  746 nodes.\n",
      "Instance number  17  with  10  steps  and  461 cones,  772 edges and  802 nodes.\n",
      "Instance number  18  with  10  steps  and  495 cones,  824 edges and  854 nodes.\n",
      "Instance number  19  with  10  steps  and  546 cones,  916 edges and  946 nodes.\n",
      "Instance number  20  with  10  steps  and  603 cones,  1012 edges and  1042 nodes.\n",
      "Instance number  21  with  10  steps  and  649 cones,  1090 edges and  1120 nodes.\n",
      "Instance number  22  with  10  steps  and  695 cones,  1162 edges and  1192 nodes.\n",
      "Instance number  23  with  10  steps  and  736 cones,  1226 edges and  1256 nodes.\n",
      "Instance number  24  with  10  steps  and  788 cones,  1314 edges and  1344 nodes.\n",
      "Instance number  25  with  10  steps  and  825 cones,  1376 edges and  1406 nodes.\n",
      "Instance number  26  with  10  steps  and  867 cones,  1448 edges and  1478 nodes.\n",
      "Instance number  27  with  10  steps  and  898 cones,  1498 edges and  1528 nodes.\n",
      "Instance number  28  with  10  steps  and  926 cones,  1542 edges and  1572 nodes.\n",
      "Instance number  29  with  10  steps  and  966 cones,  1608 edges and  1638 nodes.\n",
      "Instance number  30  with  10  steps  and  992 cones,  1652 edges and  1682 nodes.\n",
      "Instance number  31  with  10  steps  and  1018 cones,  1696 edges and  1726 nodes.\n",
      "Instance number  32  with  10  steps  and  1060 cones,  1768 edges and  1798 nodes.\n",
      "Instance number  33  with  10  steps  and  1092 cones,  1826 edges and  1856 nodes.\n",
      "Instance number  34  with  10  steps  and  1140 cones,  1906 edges and  1936 nodes.\n",
      "Instance number  35  with  10  steps  and  1189 cones,  1992 edges and  2022 nodes.\n",
      "Instance number  36  with  10  steps  and  1223 cones,  2052 edges and  2082 nodes.\n",
      "Instance number  37  with  10  steps  and  1255 cones,  2104 edges and  2134 nodes.\n",
      "Instance number  38  with  10  steps  and  1279 cones,  2144 edges and  2174 nodes.\n",
      "Instance number  39  with  10  steps  and  1303 cones,  2184 edges and  2214 nodes.\n",
      "Instance number  40  with  10  steps  and  1330 cones,  2234 edges and  2264 nodes.\n",
      "Instance number  41  with  10  steps  and  1351 cones,  2268 edges and  2298 nodes.\n",
      "Instance number  42  with  10  steps  and  1387 cones,  2328 edges and  2358 nodes.\n",
      "Instance number  43  with  10  steps  and  1422 cones,  2386 edges and  2416 nodes.\n",
      "Instance number  44  with  10  steps  and  1460 cones,  2456 edges and  2486 nodes.\n",
      "Instance number  45  with  10  steps  and  1497 cones,  2518 edges and  2548 nodes.\n",
      "Instance number  46  with  10  steps  and  1551 cones,  2602 edges and  2632 nodes.\n",
      "Instance number  47  with  10  steps  and  1590 cones,  2664 edges and  2694 nodes.\n",
      "Instance number  48  with  10  steps  and  1619 cones,  2718 edges and  2748 nodes.\n",
      "Instance number  49  with  10  steps  and  1663 cones,  2796 edges and  2826 nodes.\n",
      "After updating the merge events there are 4145 edges and  2888 nodes in the network graph.\n",
      "Operation for 1700 growth cones with 500 growth steps took 8.652856993675233 min\n"
     ]
    },
    {
     "data": {
      "application/vnd.jupyter.widget-view+json": {
       "model_id": "2d477c8091a84c21bd2b97f36a90da70",
       "version_major": 2,
       "version_minor": 0
      },
      "text/plain": [
       "Canvas(toolbar=Toolbar(toolitems=[('Home', 'Reset original view', 'home', 'home'), ('Back', 'Back to previous …"
      ]
     },
     "metadata": {},
     "output_type": "display_data"
    },
    {
     "data": {
      "application/vnd.jupyter.widget-view+json": {
       "model_id": "44c8bc9a1dd04b699a7fb9c76014f745",
       "version_major": 2,
       "version_minor": 0
      },
      "text/plain": [
       "Canvas(toolbar=Toolbar(toolitems=[('Home', 'Reset original view', 'home', 'home'), ('Back', 'Back to previous …"
      ]
     },
     "metadata": {},
     "output_type": "display_data"
    }
   ],
   "source": [
    "#Starting the growth process simulation\n",
    "\n",
    "%matplotlib widget\n",
    "\n",
    "instances = 50\n",
    "steps = 10\n",
    "\n",
    "growing_results = ing.init_par_growing(cod, nod, edd, steps, \n",
    "                                  instances, dim, radius,\n",
    "                                  eddp, nodp, flavourp, fieldp,\n",
    "                                  ed_namesp, no_namesp, co_namesp,\n",
    "                                  forcep,\n",
    "                                  timer = True,\n",
    "                                  plot = True,\n",
    "                                  Voronoi = False,\n",
    "                                  network_x = True)\n",
    "\n",
    "cod, nod, edd, flavour, ed_names, no_names, co_names, vor, G_vor, subG_vor, G, subG = growing_results"
   ]
  },
  {
   "cell_type": "code",
   "execution_count": null,
   "metadata": {},
   "outputs": [],
   "source": []
  }
 ],
 "metadata": {
  "kernelspec": {
   "display_name": "Python 3",
   "language": "python",
   "name": "python3"
  }
 },
 "nbformat": 4,
 "nbformat_minor": 4
}
