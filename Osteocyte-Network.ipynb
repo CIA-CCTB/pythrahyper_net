{
 "cells": [
  {
   "cell_type": "markdown",
   "metadata": {},
   "source": [
    "# Multicellular Network Growth\n",
    "***\n",
    "\n",
    "This notebook shows growth simulations of cell processes in a tissue.\n",
    "\n",
    "***"
   ]
  },
  {
   "cell_type": "markdown",
   "metadata": {},
   "source": [
    "First, we import all relevant libraries and the framework itself:"
   ]
  },
  {
   "cell_type": "code",
   "execution_count": 1,
   "metadata": {},
   "outputs": [],
   "source": [
    "import numpy as np\n",
    "from time import time as timet\n",
    "import concurrent.futures\n",
    "import os\n",
    "import itertools\n",
    "import multiprocessing\n",
    "from pathlib import Path\n",
    "\n",
    "import tifffile as tif\n",
    "\n",
    "import matplotlib.pyplot as plt\n",
    "from scipy.interpolate import splprep, splev\n",
    "from mpl_toolkits.mplot3d import Axes3D"
   ]
  },
  {
   "cell_type": "markdown",
   "metadata": {},
   "source": [
    "Now we need to import the main simulation classes as well as some auxiliary modules for configuration and plotting:"
   ]
  },
  {
   "cell_type": "code",
   "execution_count": 2,
   "metadata": {},
   "outputs": [],
   "source": [
    "# Import the framework's main module\n",
    "import Initialize_Network_Growing as ing\n",
    "\n",
    "# This python file loads the parameter setting for the growth simulation\n",
    "import Start_Conditions.Parameter_Importer as Parameter_Importer\n",
    "\n",
    "# This python file initializes the starting nodes and growth cones: \n",
    "import Start_Conditions.Node_Maker as Node_Maker\n",
    "\n",
    "# This loads the images containing the structure of teh environment:\n",
    "import Start_Conditions.StructField_Maker as StructField_Maker\n",
    "\n",
    "# Growth step functionality\n",
    "import Math_and_Simulation.Step_Maker as Step_Maker\n",
    "\n",
    "# Functions for plotting and making movies\n",
    "import Plots_and_Movies.Plot_Maker as Plot_Maker\n",
    "import Plots_and_Movies.Movie_Maker as Movie_Maker\n",
    "\n",
    "# Functions for generating the networkx graph\n",
    "import Network_Graph_Construction.Network_X as Network_X\n",
    "import Network_Graph_Construction.Update_Network as Update_Network"
   ]
  },
  {
   "cell_type": "markdown",
   "metadata": {},
   "source": [
    "***\n",
    "## 2) Setup the simulation environment\n",
    "\n",
    "In our scenario, the network forms between three layers of osteocytes, representing a simplified geometry similar to lamellar bone. From each cell, N processes grow out (ref Buenzli).\n",
    "\n",
    "We start by defining the cell centers in a 3-2-3, 2-3-2, 3-2-3 arrangement inside a 256³ cube:\n"
   ]
  },
  {
   "cell_type": "code",
   "execution_count": 3,
   "metadata": {},
   "outputs": [],
   "source": [
    "cells = np.array([[128,64,128],[128,128,128],[128,192,128],\n",
    "                  [64,96,128], [64,160,128],\n",
    "                  [192,96,128],[192,160,128],\n",
    "                  [128,96,96], [128,160,96],\n",
    "                  [64,64,96],  [64,128,96],  [64,192,96],\n",
    "                  [192,64,96], [192,128,96], [192,192,96],\n",
    "                  [128,96,160],[128,160,160],\n",
    "                  [64,64,160], [64,128,160], [64,192,160],\n",
    "                  [192,64,160],[192,128,160],[192,192,160]]);\n",
    "\n"
   ]
  },
  {
   "cell_type": "markdown",
   "metadata": {},
   "source": [
    "To get a quick 3-cell simulation run, execute this cell instead:"
   ]
  },
  {
   "cell_type": "code",
   "execution_count": 4,
   "metadata": {},
   "outputs": [],
   "source": [
    "cells = np.array([[128,64,128],[128,128,128],[128,192,128]]);"
   ]
  },
  {
   "cell_type": "markdown",
   "metadata": {},
   "source": [
    "Define number of cells and cell shape:"
   ]
  },
  {
   "cell_type": "code",
   "execution_count": 5,
   "metadata": {},
   "outputs": [],
   "source": [
    "N_cells = cells.shape[0]\n",
    "\n",
    "# offset of cell surface from cell center\n",
    "w = 7\n",
    "l = 12\n",
    "h = 4"
   ]
  },
  {
   "cell_type": "markdown",
   "metadata": {},
   "source": [
    "Next, we define the outgrowing cell processes at each cell location, pointing outwards and equally distributed in all directions.\n",
    "\n",
    "After setting the number of outgrowing processes per cell, we first generate the angles (az, pol) of the outgrowing processes for each cell:"
   ]
  },
  {
   "cell_type": "code",
   "execution_count": 6,
   "metadata": {},
   "outputs": [],
   "source": [
    "# number of outgrowing processes per cell\n",
    "N = 20\n",
    "\n",
    "# equally distributed angles\n",
    "idx = np.arange(0, N, dtype=float) + 0.5;\n",
    "phi = np.arccos(1 - 2*idx/N);\n",
    "theta = np.pi * idx * (1 + 5**0.5);\n",
    "\n",
    "# azimuth and polar angles of initial direction\n",
    "az = np.mod(np.rad2deg(phi),180);\n",
    "pol = np.mod(np.rad2deg(theta),360);"
   ]
  },
  {
   "cell_type": "markdown",
   "metadata": {},
   "source": [
    "Now we also need the starting positions on the surface of each cell, again equally distributed (for details, see other notebook):"
   ]
  },
  {
   "cell_type": "code",
   "execution_count": 7,
   "metadata": {},
   "outputs": [],
   "source": [
    "# positions on cell surface relative to center\n",
    "x = w * np.cos(theta) * np.sin(phi);\n",
    "y = l * np.sin(theta) * np.sin(phi);\n",
    "z = h * np.cos(phi)"
   ]
  },
  {
   "cell_type": "markdown",
   "metadata": {},
   "source": [
    "By combining the starting positions and angles relative to the cell center with the positions of all N cell centers, we can now generate the arrays with all positions:"
   ]
  },
  {
   "cell_type": "code",
   "execution_count": 8,
   "metadata": {},
   "outputs": [],
   "source": [
    "# generate column vectors for positions of all cells\n",
    "xc = np.squeeze(np.repeat(cells[:,0],N) + np.tile(x,(1,N_cells)));\n",
    "yc = np.squeeze(np.repeat(cells[:,1],N) + np.tile(y,(1,N_cells)));\n",
    "zc = np.squeeze(np.repeat(cells[:,2],N) + np.tile(z,(1,N_cells)))"
   ]
  },
  {
   "cell_type": "markdown",
   "metadata": {},
   "source": [
    "Same for the angles:"
   ]
  },
  {
   "cell_type": "code",
   "execution_count": 9,
   "metadata": {},
   "outputs": [],
   "source": [
    "azc = np.squeeze(np.tile(az,(1,N_cells)));\n",
    "polc = np.squeeze(np.tile(pol,(1,N_cells)));"
   ]
  },
  {
   "cell_type": "markdown",
   "metadata": {},
   "source": [
    "Finally, we need the cell index for the last column:"
   ]
  },
  {
   "cell_type": "code",
   "execution_count": 10,
   "metadata": {},
   "outputs": [],
   "source": [
    "# index column to identify processes from the same cell\n",
    "idc = np.repeat(np.arange(1, N_cells+1, dtype=float),N);"
   ]
  },
  {
   "cell_type": "markdown",
   "metadata": {},
   "source": [
    "We stack the arrays together as columns and write them to the config file:"
   ]
  },
  {
   "cell_type": "code",
   "execution_count": 11,
   "metadata": {},
   "outputs": [],
   "source": [
    "# save starting positions to text file\n",
    "np.savetxt('Examples/Osteocytes/starting_positions_ocy.csv',np.column_stack((xc,yc,zc,azc,polc,idc)), fmt='%.2f', delimiter=',', header='Starting Positions\\nX,Y,Z,Az,Pol,CN')"
   ]
  },
  {
   "cell_type": "markdown",
   "metadata": {},
   "source": [
    "***\n",
    "\n",
    "## 3) Perform simulation\n",
    "\n",
    "Set the location of the configuration files (.csv text files):"
   ]
  },
  {
   "cell_type": "code",
   "execution_count": 12,
   "metadata": {},
   "outputs": [],
   "source": [
    "# Path to this notebook\n",
    "home = os.getcwd() \n",
    "\n",
    "# Locations of csv configuration files\n",
    "path_multilayer = home + '/Parameter_Files/multilayer_dir_parameters.csv'\n",
    "path_startpar = home + '/Examples/Osteocytes/starting_positions_ocy.csv'\n",
    "path_growth = home + '/Examples/Osteocytes/growth_parameters.csv'\n",
    "path_internal = home + '/Examples/Osteocytes/internal_parameters.csv'\n",
    "path_structured_images = home + '/Examples/Osteocytes/structured_image_dir.csv'"
   ]
  },
  {
   "cell_type": "markdown",
   "metadata": {},
   "source": [
    "Generate the structured image - an oriented bone matrix with perpendicular lamellae where the cells are:"
   ]
  },
  {
   "cell_type": "code",
   "execution_count": null,
   "metadata": {},
   "outputs": [],
   "source": [
    "# generate and save empty volume \n",
    "fe = np.zeros((256,256,256));\n",
    "tif.imsave(home +'/Examples/Osteocytes/empty.tif',np.float32(fe))\n",
    "\n",
    "# create 256³ structured image procedurally\n",
    "f = np.zeros((4,4));\n",
    "\n",
    "# some collagen fibers\n",
    "f[0:2,0:2] = 300;\n",
    "\n",
    "# tile to fill volume\n",
    "f2 = np.tile(f, [256,64,64]);\n",
    "\n",
    "# introduce some lamellae with perpendicular fibers\n",
    "f2[64:256:64,:,::16] = 1;\n",
    "f2[64:256:64,::16,:] = 1;\n",
    "\n",
    "# save at the appropriate position\n",
    "tif.imsave(home +'/Examples/Osteocytes/fiberz.tif',np.float32(f2))"
   ]
  },
  {
   "cell_type": "markdown",
   "metadata": {},
   "source": [
    "Extract settings and initialize the dictionaries of network objects as well as the computation grid:"
   ]
  },
  {
   "cell_type": "code",
   "execution_count": 13,
   "metadata": {},
   "outputs": [
    {
     "name": "stdout",
     "output_type": "stream",
     "text": [
      "The number of starting cones is : 60\n"
     ]
    }
   ],
   "source": [
    "# Generate feature maps from image data of growth environment\n",
    "features = ing.StructField_Maker.structured_field(path_structured_images, home, sigma_divd=2, sigma_divt1=2, sigma_divt2=2)\n",
    "\n",
    "# Initialise the computation grid\n",
    "field_ref = ing.StructField_Maker.interpol_external_fields(path_multilayer)\n",
    "\n",
    "# Initialize the object dictionaries\n",
    "obj_par_env = ing.init_objects_parameter_enviroment(path_startpar,path_internal,path_growth,path_multilayer)"
   ]
  },
  {
   "cell_type": "markdown",
   "metadata": {},
   "source": [
    "The growth process is implemented as parallel simulation, therefore the data need to be transferred into shared memory objects, using the [**manager concept**](https://docs.python.org/3/library/multiprocessing.html#managers) from the python [**multiprocessing**](https://docs.python.org/3/library/multiprocessing.html) library:"
   ]
  },
  {
   "cell_type": "code",
   "execution_count": 14,
   "metadata": {},
   "outputs": [],
   "source": [
    "# Extract individual dictionaries\n",
    "cod, nod, edd, flavour, ed_names, no_names, co_names, field, steps, instances, dim, radius  = obj_par_env\n",
    "\n",
    "# Create shared memory proxy objects for all parameter and class objects\n",
    "mgr, eddp, nodp, flavourp, ed_namesp, \\\n",
    "no_namesp, co_namesp, fieldp, forcep = ing.init_manager_init(edd, nod, flavour,\n",
    "                                                            ed_names, no_names,\n",
    "                                                            co_names, field,\n",
    "                                                            field_ref)\n",
    "\n",
    "# Transfer proxy objects to the correct namespace (needed when running in notebook)\n",
    "ing.mgr = mgr\n",
    "ing.eddp = eddp\n",
    "ing.nodp = nodp\n",
    "ing.flavourp = flavourp\n",
    "ing.ed_namesp = ed_namesp\n",
    "ing.no_namesp = no_namesp\n",
    "ing.co_namesp = co_namesp\n",
    "ing.fieldp = fieldp\n",
    "ing.forcep = forcep\n"
   ]
  },
  {
   "cell_type": "markdown",
   "metadata": {},
   "source": [
    "Finally, set the number of instances (simulation steps) and substeps per instance, and run the parallel simulation: "
   ]
  },
  {
   "cell_type": "code",
   "execution_count": 15,
   "metadata": {},
   "outputs": [
    {
     "name": "stdout",
     "output_type": "stream",
     "text": [
      "Instance number  0  with  5  steps  and  60 cones,  60 edges and  63 nodes.\n",
      "Instance number  1  with  5  steps  and  75 cones,  84 edges and  87 nodes.\n",
      "Instance number  2  with  5  steps  and  107 cones,  128 edges and  131 nodes.\n",
      "Instance number  3  with  5  steps  and  135 cones,  166 edges and  169 nodes.\n",
      "Instance number  4  with  5  steps  and  150 cones,  188 edges and  191 nodes.\n",
      "Instance number  5  with  5  steps  and  175 cones,  224 edges and  227 nodes.\n",
      "Instance number  6  with  5  steps  and  211 cones,  280 edges and  283 nodes.\n",
      "Instance number  7  with  5  steps  and  240 cones,  324 edges and  327 nodes.\n",
      "Instance number  8  with  5  steps  and  264 cones,  366 edges and  369 nodes.\n",
      "Instance number  9  with  5  steps  and  302 cones,  424 edges and  427 nodes.\n",
      "After updating the merge events there are 545 edges and  513 nodes in the network graph.\n",
      "Operation for 357 growth cones with 50 growth steps took 1.1714552481969198 min\n"
     ]
    },
    {
     "name": "stderr",
     "output_type": "stream",
     "text": [
      "/home/phk57mf/pythrahyper_net/Plots_and_Movies/Plot_Maker.py:60: UserWarning: Matplotlib is currently using module://ipykernel.pylab.backend_inline, which is a non-GUI backend, so cannot show the figure.\n",
      "  fig.show()\n"
     ]
    },
    {
     "data": {
      "image/png": "[encoded data removed]",
      "text/plain": [
       "<Figure size 432x288 with 1 Axes>"
      ]
     },
     "metadata": {
      "needs_background": "light"
     },
     "output_type": "display_data"
    }
   ],
   "source": [
    "# Starting the growth process simulation\n",
    "\n",
    "%matplotlib inline\n",
    "\n",
    "instances = 10\n",
    "steps = 5\n",
    "\n",
    "growing_results = ing.init_par_growing(cod, nod, edd, steps,instances, dim, radius,eddp, nodp, flavourp, fieldp, ed_namesp, no_namesp, co_namesp,forcep,\n",
    "                                  timer = True,\n",
    "                                  plot = True,\n",
    "                                  Voronoi = False,\n",
    "                                  network_x = False)\n",
    "\n",
    "cod, nod, edd, flavour, ed_names, no_names, co_names, vor, G_vor, subG_vor, G, subG = growing_results"
   ]
  },
  {
   "cell_type": "markdown",
   "metadata": {},
   "source": [
    "Write results to file:"
   ]
  },
  {
   "cell_type": "code",
   "execution_count": 16,
   "metadata": {},
   "outputs": [],
   "source": [
    "import pickle\n",
    "\n",
    "with open('Examples/Osteocytes/cod.pkl', 'wb') as f:\n",
    "    pickle.dump(cod, f)\n",
    "    \n",
    "with open('Examples/Osteocytes/edd.pkl', 'wb') as f:\n",
    "    pickle.dump(edd, f)\n",
    "    \n",
    "with open('Examples/Osteocytes/nod.pkl', 'wb') as f:\n",
    "    pickle.dump(nod, f)"
   ]
  },
  {
   "cell_type": "markdown",
   "metadata": {},
   "source": [
    "Generate networkx graph, add nodes and edges, and write to file:"
   ]
  },
  {
   "cell_type": "code",
   "execution_count": 17,
   "metadata": {},
   "outputs": [],
   "source": [
    "import networkx as nx\n",
    "\n",
    "G = nx.Graph()\n",
    "    \n",
    "nodes = [key for key in nod.keys()]    \n",
    "\n",
    "G.add_nodes_from(nodes)\n",
    "    \n",
    "edges = [(edd[key].nodes[0],edd[key].nodes[1],len(edd[key].pos_list)) for key in edd.keys()]\n",
    "\n",
    "G.add_weighted_edges_from(edges)\n",
    "\n",
    "thr = 1;\n",
    "for key in edd.keys():\n",
    "    dx = edd[key].x_pos1 - edd[key].x_pos2;\n",
    "    dy = edd[key].y_pos1 - edd[key].y_pos2;\n",
    "    dz = edd[key].z_pos1 - edd[key].z_pos2;\n",
    "    d = np.sqrt(dx**2 + dy**2 + dz**2);\n",
    "    n1,n2 = edd[key].nodes[:]        \n",
    "    if (d<thr) and (n1 in G) and (n2 in G):\n",
    "        G = nx.contracted_nodes(G,edd[key].nodes[0],edd[key].nodes[1],);\n",
    "    \n",
    "G.remove_edges_from(nx.selfloop_edges(G))\n",
    "        \n",
    "with open('Examples/Osteocytes/G.pkl', 'wb') as f:\n",
    "    nx.write_gpickle(G, f)\n"
   ]
  },
  {
   "cell_type": "markdown",
   "metadata": {},
   "source": [
    "Plot the graph:"
   ]
  },
  {
   "cell_type": "code",
   "execution_count": 18,
   "metadata": {},
   "outputs": [
    {
     "data": {
      "image/png": "[encoded data removed]",
      "text/plain": [
       "<Figure size 360x360 with 1 Axes>"
      ]
     },
     "metadata": {},
     "output_type": "display_data"
    }
   ],
   "source": [
    "fig = plt.figure(figsize=(5,5))\n",
    "ax = plt.subplot(111)\n",
    "\n",
    "nx.draw_spring(G,with_labels = False,node_size = 10, node_color =  'r', node_shape = 'o')"
   ]
  },
  {
   "cell_type": "markdown",
   "metadata": {},
   "source": [
    "Get an estimate of the average clustering coefficient:"
   ]
  },
  {
   "cell_type": "code",
   "execution_count": 19,
   "metadata": {},
   "outputs": [
    {
     "data": {
      "text/plain": [
       "0.00899142265601893"
      ]
     },
     "execution_count": 19,
     "metadata": {},
     "output_type": "execute_result"
    }
   ],
   "source": [
    "nx.average_clustering(G)"
   ]
  },
  {
   "cell_type": "markdown",
   "metadata": {},
   "source": [
    "For more examples how to examine graph properties, and for regenerating the plots in the paper using Mayavi, please look at the Multiple-Parameter Analysis Notebook."
   ]
  },
  {
   "cell_type": "code",
   "execution_count": null,
   "metadata": {},
   "outputs": [],
   "source": []
  }
 ],
 "metadata": {
  "kernelspec": {
   "display_name": "Python 3",
   "language": "python",
   "name": "python3"
  },
  "language_info": {
   "codemirror_mode": {
    "name": "ipython",
    "version": 3
   },
   "file_extension": ".py",
   "mimetype": "text/x-python",
   "name": "python",
   "nbconvert_exporter": "python",
   "pygments_lexer": "ipython3",
   "version": "3.7.9"
  }
 },
 "nbformat": 4,
 "nbformat_minor": 4
}
